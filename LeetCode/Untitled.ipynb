{
 "cells": [
  {
   "cell_type": "code",
   "execution_count": 1,
   "metadata": {},
   "outputs": [],
   "source": [
    "import pandas as pd\n",
    "import numpy as np\n"
   ]
  },
  {
   "cell_type": "code",
   "execution_count": null,
   "metadata": {
    "scrolled": true
   },
   "outputs": [],
   "source": [
    "class Solution:\n",
    "    def fourSum(self, nums, target):\n",
    "        \"\"\"\n",
    "        :type nums: List[int]\n",
    "        :type target: int\n",
    "        :rtype: List[List[int]]\n",
    "        \"\"\"\n",
    "        \n",
    "        all_sums = []\n",
    "        for i in range(len(nums)-3):\n",
    "            for j in range(i+1,len(nums)-2):\n",
    "                for k in range(j+1,len(nums)-1):\n",
    "                    for l in range(k+1,len(nums)):\n",
    "                        ##print (nums[i],nums[j],nums[k],nums[l])\n",
    "                        if nums[i]+nums[j]+nums[k]+nums[l]==target:\n",
    "                            np_arr = sorted([nums[i],nums[j],nums[k],nums[l]])\n",
    "                            all_sums.append(np_arr)\n",
    "        \n",
    "        i = 0\n",
    "        print (all_sums)\n",
    "        while i<len(all_sums)-1:\n",
    "            pop_key = False\n",
    "            for i2 in range(i+1,len(all_sums)):\n",
    "                same = 0\n",
    "                for j in range(4):\n",
    "                    try:\n",
    "                       if all_sums[i][j]== all_sums[i2][j]:\n",
    "                            same = same+1\n",
    "                    except:\n",
    "                        False\n",
    "                if same==4:\n",
    "                    pop_key = True\n",
    "                    \n",
    "            if pop_key:\n",
    "                all_sums.pop(i)\n",
    "            else:\n",
    "                i=i+1\n",
    "        return (all_sums)\n",
    "        \n",
    "    \n",
    "##S = [1, 0, -1, 0, -2, 2]\n",
    "S = [-3,-1,0,2,4,5]\n",
    "S = [-5,-4,-3,-2,-1,0,0,1,2,3,4,5]\n",
    "S = [-5,5,4,-3,0,0,4,-2]\n",
    "sol = Solution()\n",
    "sol.fourSum(S,4)\n",
    "\n"
   ]
  },
  {
   "cell_type": "code",
   "execution_count": 67,
   "metadata": {},
   "outputs": [
    {
     "data": {
      "text/plain": [
       "[1, 2, 2, 3, 4, 7]"
      ]
     },
     "execution_count": 67,
     "metadata": {},
     "output_type": "execute_result"
    }
   ],
   "source": [
    "aa = [1,2,3,4,7,2]\n",
    "sorted(aa)"
   ]
  },
  {
   "cell_type": "code",
   "execution_count": 94,
   "metadata": {},
   "outputs": [
    {
     "data": {
      "text/plain": [
       "[[-2, -1, 1, 2], [-2, 0, 0, 2], [-1, 0, 0, 1]]"
      ]
     },
     "execution_count": 94,
     "metadata": {},
     "output_type": "execute_result"
    }
   ],
   "source": [
    "class Solution:\n",
    "    def fourSum(self, nums, target):\n",
    "        \"\"\"\n",
    "        :type nums: List[int]\n",
    "        :type target: int\n",
    "        :rtype: List[List[int]]\n",
    "        \"\"\"\n",
    "        i = 0\n",
    "        j = 1\n",
    "        l = 2\n",
    "        m = 3\n",
    "        a = sorted(nums)\n",
    "        all_sums = []\n",
    "        do_key = True\n",
    "        while do_key:\n",
    "            ##print (a[i],a[j],a[l],a[m])\n",
    "\n",
    "            if a[i]+a[j]+a[l]+a[m]==target:\n",
    "                all_sums.append([a[i],a[j],a[l],a[m]])\n",
    "                ##print ([a[i],a[j],a[l],a[m]])\n",
    "\n",
    "            cur_m = a[m]\n",
    "            while m<len(a) and cur_m==a[m]:\n",
    "                m=m+1\n",
    "            \n",
    "            if (m==len(a)):\n",
    "                cur_l = a[l]\n",
    "                while cur_l==a[l] and l<len(a)-1:\n",
    "                   l=l+1\n",
    "                m = l+1\n",
    "                \n",
    "            if (l==len(a)-1):\n",
    "                cur_j = a[j]\n",
    "                while cur_j==a[j] and j<len(a)-2:\n",
    "                   j=j+1\n",
    "                l = j+1\n",
    "                m = l+1\n",
    "\n",
    "            if (j==len(a)-2):\n",
    "                cur_i = a[i]\n",
    "                while cur_i==a[i] and i<len(a)-3:\n",
    "                   i=i+1\n",
    "                j = i+1\n",
    "                l = j+1\n",
    "                m = l+1\n",
    "            if i==len(a)-3:\n",
    "               do_key=False \n",
    "        ## print (nums)\n",
    "        return all_sums\n",
    "\n",
    "##S = [-5,-4,-3,-2,-1,0,0,1,2,3,4,5]\n",
    "S = [-5,5,4,-3,0,0,4,-2]\n",
    "S = [1,0,-1,0,-2,2]\n",
    "sol = Solution()\n",
    "sol.fourSum(S,0)"
   ]
  },
  {
   "cell_type": "code",
   "execution_count": 96,
   "metadata": {},
   "outputs": [
    {
     "data": {
      "text/plain": [
       "0"
      ]
     },
     "execution_count": 96,
     "metadata": {},
     "output_type": "execute_result"
    }
   ],
   "source": [
    "class Solution:\n",
    "    def fourSum(self, nums, target):\n",
    "        \n",
    "        return 0\n",
    "    \n",
    "##S = [-5,-4,-3,-2,-1,0,0,1,2,3,4,5]\n",
    "S = [-5,5,4,-3,0,0,4,-2]\n",
    "S = [1,0,-1,0,-2,2]\n",
    "sol = Solution()\n",
    "sol.fourSum(S,0)"
   ]
  },
  {
   "cell_type": "code",
   "execution_count": null,
   "metadata": {
    "collapsed": true,
    "scrolled": true
   },
   "outputs": [],
   "source": [
    "class Solution:\n",
    "    def twoSum(self, nums,target):\n",
    "        \"\"\"\n",
    "        :type nums: List[int]\n",
    "        :rtype: List[List[int]]\n",
    "        \"\"\"\n",
    "        if len(nums)<2: return []\n",
    "        \n",
    "        nums = [x-(target/2) for x in nums]\n",
    "        all_sums = []\n",
    "        \n",
    "        for a_pos in range(0,len(nums)-1):\n",
    "            for b_pos in range(a_pos+1,len(nums)):\n",
    "                if nums[a_pos] +nums[b_pos]==0:\n",
    "                    return [a_pos,b_pos]\n",
    "                \n",
    "        return []\n",
    "        \n",
    "S = [2, 7, 11, 15]\n",
    "S = [3,2,4]\n",
    "##S = [0,0,0]\n",
    "\n",
    "dt = Solution()\n",
    "dt.twoSum(S,6)"
   ]
  },
  {
   "cell_type": "code",
   "execution_count": 44,
   "metadata": {},
   "outputs": [
    {
     "name": "stdout",
     "output_type": "stream",
     "text": [
      "2 5 7 0\n",
      "4 6 0 1\n",
      "3 4 8 0\n"
     ]
    }
   ],
   "source": [
    "# Definition for singly-linked list.\n",
    "class ListNode:\n",
    "     def __init__(self, x):\n",
    "         self.val = x\n",
    "         self.next = None\n",
    "\n",
    "class Solution:\n",
    "    def addTwoNumbers(self, l1, l2):\n",
    "        \"\"\"\n",
    "        :type l1: ListNode\n",
    "        :type l2: ListNode\n",
    "        :rtype: ListNode\n",
    "        \"\"\"\n",
    "        a = l1\n",
    "        b = l2\n",
    "        a10 = 0\n",
    "        c = None\n",
    "        while a is not None or b is not None or a10>0:\n",
    "            a_cur = 0\n",
    "            b_cur = 0\n",
    "            if a is not None:\n",
    "                a_cur = a.val\n",
    "                a = a.next\n",
    "\n",
    "            if b is not None:\n",
    "                b_cur = b.val\n",
    "                b = b.next\n",
    "            \n",
    "            a0 = (a_cur+b_cur+a10) % 10\n",
    "            a10 = (a_cur+b_cur+a10) // 10\n",
    "            \n",
    "            if c is None:\n",
    "                c = ListNode(a0)\n",
    "                c_curr = c\n",
    "            else:\n",
    "                c_curr.next = ListNode(a0)\n",
    "                c_curr = c_curr.next\n",
    "                \n",
    "            print (a_cur,b_cur,a0, a10)\n",
    "        return c\n",
    "    \n",
    "a = ListNode(2)\n",
    "a.next = ListNode(4)\n",
    "a.next.next = ListNode(3)\n",
    "\n",
    "\n",
    "b = ListNode(5)\n",
    "b.next = ListNode(6)\n",
    "b.next.next = ListNode(4)\n",
    "\n",
    "sol = Solution()\n",
    "aa = sol.addTwoNumbers(a,b)\n",
    "\n"
   ]
  },
  {
   "cell_type": "code",
   "execution_count": 116,
   "metadata": {},
   "outputs": [
    {
     "data": {
      "text/plain": [
       "5"
      ]
     },
     "execution_count": 116,
     "metadata": {},
     "output_type": "execute_result"
    }
   ],
   "source": [
    "class Solution:\n",
    "    def lengthOfLongestSubstring(self, s):\n",
    "        \"\"\"\n",
    "        :type s: str\n",
    "        :rtype: int\n",
    "        \"\"\"\n",
    "        if len(s)==0:\n",
    "            return 0\n",
    "        \n",
    "        chars = {}\n",
    "        subs_begin_pos = 0 ## where we started our length position\n",
    "        s_pos = 0  ## our current position in string\n",
    "        s_len = 0  ## length of string\n",
    "        max_len = 0\n",
    "        while s_pos<=len(s)-1:\n",
    "            if s[s_pos] not in chars.keys():\n",
    "                chars[s[s_pos]] = s_pos\n",
    "                s_len +=1\n",
    "                s_pos +=1\n",
    "            else:\n",
    "                cur_char = s[s_pos]\n",
    "                char_last_seen_pos = chars[cur_char]\n",
    "                if char_last_seen_pos<subs_begin_pos:\n",
    "                    chars[cur_char] = s_pos\n",
    "                    s_len +=1\n",
    "                    s_pos +=1\n",
    "                else:\n",
    "                    if s_len>max_len: max_len = s_len\n",
    "                    subs_begin_pos = char_last_seen_pos + 1\n",
    "                    s_len = s_pos - subs_begin_pos+1\n",
    "                    chars[cur_char] = s_pos\n",
    "                    s_pos +=1\n",
    "\n",
    "        if s_len>max_len: max_len = s_len\n",
    "        return (max_len)\n",
    "     \n",
    "##S = \"sdfsdf\" #3\n",
    "##S = \"abcabcbb\"\n",
    "##S = \"abba\" #2\n",
    "S= \"tmmzuxt\" ## 5\n",
    "sol = Solution()\n",
    "sol.lengthOfLongestSubstring(S)\n",
    "        "
   ]
  },
  {
   "cell_type": "code",
   "execution_count": 51,
   "metadata": {},
   "outputs": [
    {
     "data": {
      "text/plain": [
       "'sdfssd'"
      ]
     },
     "execution_count": 51,
     "metadata": {},
     "output_type": "execute_result"
    }
   ],
   "source": [
    "S[:-1]"
   ]
  },
  {
   "cell_type": "code",
   "execution_count": 157,
   "metadata": {
    "scrolled": true
   },
   "outputs": [
    {
     "name": "stdout",
     "output_type": "stream",
     "text": [
      "321\n"
     ]
    }
   ],
   "source": [
    "class Solution:\n",
    "    def reverse(self, x):\n",
    "        \"\"\"\n",
    "        :type x: int\n",
    "        :rtype: int\n",
    "        \"\"\"\n",
    "        sgn = False\n",
    "        if x<0:\n",
    "            sgn = True\n",
    "            x = abs(x)\n",
    "        x = str(x)\n",
    "        try:\n",
    "            x = (-1)**sgn * int(x[::-1])\n",
    "        except:\n",
    "            x = 0\n",
    "        if abs(x)>2**31:\n",
    "            x=0\n",
    "        return(x)\n",
    "        \n",
    "        \n",
    "sol = Solution()\n",
    "sol.reverse(123)"
   ]
  },
  {
   "cell_type": "code",
   "execution_count": 160,
   "metadata": {},
   "outputs": [
    {
     "data": {
      "text/plain": [
       "2147483648"
      ]
     },
     "execution_count": 160,
     "metadata": {},
     "output_type": "execute_result"
    }
   ],
   "source": [
    "2**31"
   ]
  },
  {
   "cell_type": "code",
   "execution_count": null,
   "metadata": {
    "collapsed": true
   },
   "outputs": [],
   "source": []
  }
 ],
 "metadata": {
  "kernelspec": {
   "display_name": "Python 3",
   "language": "python",
   "name": "python3"
  },
  "language_info": {
   "codemirror_mode": {
    "name": "ipython",
    "version": 3
   },
   "file_extension": ".py",
   "mimetype": "text/x-python",
   "name": "python",
   "nbconvert_exporter": "python",
   "pygments_lexer": "ipython3",
   "version": "3.6.1"
  }
 },
 "nbformat": 4,
 "nbformat_minor": 2
}
